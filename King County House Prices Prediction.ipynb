{
 "cells": [
  {
   "cell_type": "markdown",
   "id": "f577643a",
   "metadata": {},
   "source": [
    "### King County House Price Prediction"
   ]
  },
  {
   "cell_type": "code",
   "execution_count": 1,
   "id": "450e1c66",
   "metadata": {},
   "outputs": [
    {
     "name": "stdout",
     "output_type": "stream",
     "text": [
      "Requirement already satisfied: xgboost in c:\\anac\\lib\\site-packages (1.7.3)\n",
      "Requirement already satisfied: numpy in c:\\anac\\lib\\site-packages (from xgboost) (1.20.3)\n",
      "Requirement already satisfied: scipy in c:\\anac\\lib\\site-packages (from xgboost) (1.7.1)\n",
      "Note: you may need to restart the kernel to use updated packages.\n"
     ]
    }
   ],
   "source": [
    "pip install xgboost"
   ]
  },
  {
   "cell_type": "code",
   "execution_count": 2,
   "id": "ff4d600e",
   "metadata": {},
   "outputs": [],
   "source": [
    "# import the relevant libraries\n",
    "import pandas as pd\n",
    "import numpy as np\n",
    "import seaborn as sns\n",
    "import pickle\n",
    "import matplotlib.pyplot as plt\n",
    "from sklearn.model_selection import train_test_split\n",
    "from sklearn.linear_model import LinearRegression\n",
    "from sklearn.tree import DecisionTreeRegressor\n",
    "from sklearn.ensemble import RandomForestRegressor\n",
    "from sklearn.preprocessing import StandardScaler\n",
    "from sklearn.metrics import mean_absolute_error,r2_score\n",
    "from sklearn.ensemble import RandomForestRegressor\n",
    "from sklearn.tree import DecisionTreeRegressor\n",
    "from xgboost import XGBRegressor\n",
    "from sklearn.metrics import accuracy_score,recall_score\n",
    "import statsmodels.api as sm\n",
    "from sklearn.metrics import mean_squared_error\n",
    "from sklearn.model_selection import GridSearchCV,RandomizedSearchCV\n",
    "import warnings\n",
    "warnings.filterwarnings('ignore')"
   ]
  },
  {
   "cell_type": "markdown",
   "id": "b1a4cda0",
   "metadata": {},
   "source": [
    "---"
   ]
  },
  {
   "cell_type": "code",
   "execution_count": 3,
   "id": "734a35e9",
   "metadata": {},
   "outputs": [],
   "source": [
    "#function to split the date into (year,month,day)\n",
    "def SplitDate(df):\n",
    "    df['date'] = pd.to_datetime(df['date'])\n",
    "    df['year'] = df['date'].dt.year\n",
    "    df['month'] = df['date'].dt.month\n",
    "    df['day'] = df['date'].dt.day"
   ]
  },
  {
   "cell_type": "code",
   "execution_count": 4,
   "id": "a446a140",
   "metadata": {},
   "outputs": [],
   "source": [
    "#function to drop unnessisary data\n",
    "def Drop(df):\n",
    "    df.drop(\"id\",axis=1,inplace=True)\n",
    "    df.drop(\"zipcode\",axis=1,inplace=True)\n",
    "    df.drop(\"date\",axis=1,inplace=True)      "
   ]
  },
  {
   "cell_type": "code",
   "execution_count": 5,
   "id": "5ef6f0df",
   "metadata": {},
   "outputs": [],
   "source": [
    "#function to show the heat map \n",
    "def HeatMap(df):\n",
    "    cor = df.corr()\n",
    "    plt.figure(figsize=(20,15))\n",
    "    sns.heatmap(cor, annot=True, cmap=plt.cm.BrBG)\n",
    "    plt.title(\"Correlation matrix among features\")\n",
    "    plt.show()"
   ]
  },
  {
   "cell_type": "code",
   "execution_count": 6,
   "id": "0c3ccf18",
   "metadata": {},
   "outputs": [],
   "source": [
    "#function to extract the feature\n",
    "def FeatureSelection(df):\n",
    "    df=df.drop(columns=[\"day\",\"year\",\"sqft_lot15\",\"sqft_living15\",\"sqft_basement\",\"condition\",\"yr_built\",\"bathrooms\"],axis=1)\n",
    "    return df "
   ]
  },
  {
   "cell_type": "code",
   "execution_count": 7,
   "id": "a7a0c039",
   "metadata": {},
   "outputs": [],
   "source": [
    "#function to determine the input and the target\n",
    "def DetermineXY(df):\n",
    "    x = df.drop([\"price\"], axis=1)\n",
    "    y = df[['price']]\n",
    "    return x,y"
   ]
  },
  {
   "cell_type": "code",
   "execution_count": 8,
   "id": "db2ce599",
   "metadata": {},
   "outputs": [],
   "source": [
    "#function to standardize the input \n",
    "def standardization(x_train,x_test):\n",
    "    sc=StandardScaler()\n",
    "    x_train_sc=sc.fit_transform(x_train)\n",
    "    x_test_sc=sc.transform(x_test)\n",
    "    return x_train_sc,x_test_sc"
   ]
  },
  {
   "cell_type": "markdown",
   "id": "6d087779",
   "metadata": {},
   "source": [
    "---"
   ]
  },
  {
   "cell_type": "code",
   "execution_count": 9,
   "id": "b989ff77",
   "metadata": {},
   "outputs": [],
   "source": [
    "#function to choose the best parameters for the Decision Tree Model\n",
    "def CVDecisionTree(x_train, y_train):\n",
    "    params = {'splitter':[\"best\", \"random\"],'max_depth':np.arange(5,30),'min_samples_leaf':np.arange(1,20)}\n",
    "    dt=DecisionTreeRegressor()\n",
    "    cv2 = RandomizedSearchCV(dt,params,cv=4,n_iter=25)\n",
    "    cv2.fit(x_train, y_train)\n",
    "    return cv2.best_params_"
   ]
  },
  {
   "cell_type": "code",
   "execution_count": 10,
   "id": "34c65c6a",
   "metadata": {},
   "outputs": [],
   "source": [
    "#function to choose the best parameters for the Random Forest Model\n",
    "def CVRandomForest(x_train, y_train):\n",
    "    params = {'n_estimators':np.arange(100,250,30),'max_depth':np.arange(5,15),'min_samples_leaf':np.arange(1,10)}\n",
    "    rf=RandomForestRegressor()\n",
    "    cv2 = RandomizedSearchCV(rf,params,cv=4,n_iter=25)\n",
    "    cv2.fit(x_train, y_train)\n",
    "    return cv2.best_params_"
   ]
  },
  {
   "cell_type": "code",
   "execution_count": 11,
   "id": "e1e13660",
   "metadata": {},
   "outputs": [],
   "source": [
    "#function to choose the best parameters for the XGBoost Model\n",
    "def CVXGBoost(x_train, y_train):\n",
    "    params = {'n_estimators':np.arange(100,250,30),'max_depth':np.arange(5,15),'max_leaves':np.arange(1,10)}\n",
    "    xg=XGBRegressor()\n",
    "    cv2 = RandomizedSearchCV(xg,params,cv=4,n_iter=25)\n",
    "    cv2.fit(x_train, y_train)\n",
    "    return cv2.best_params_"
   ]
  },
  {
   "cell_type": "markdown",
   "id": "5a4616f7",
   "metadata": {},
   "source": [
    "---"
   ]
  },
  {
   "cell_type": "code",
   "execution_count": 12,
   "id": "4f2c2d1e",
   "metadata": {},
   "outputs": [],
   "source": [
    "#load the preprocessed CSV data\n",
    "data=pd.read_csv(\"kc_house_data .csv\")"
   ]
  },
  {
   "cell_type": "markdown",
   "id": "a6e96ecb",
   "metadata": {},
   "source": [
    "Call the data preperation functions"
   ]
  },
  {
   "cell_type": "code",
   "execution_count": 13,
   "id": "9119b167",
   "metadata": {},
   "outputs": [],
   "source": [
    "#function to prepare the data\n",
    "def DataPreperation(data):\n",
    "    SplitDate(data)  \n",
    "    Drop(data)\n",
    "    #HeatMap(data)\n",
    "    data1=FeatureSelection(data)\n",
    "    x,y=DetermineXY(data1)\n",
    "    x_train, x_test, y_train, y_test= train_test_split(x,y, test_size=0.3, random_state=0)\n",
    "    x_train_sc,x_test_sc=standardization(x_train,x_test)\n",
    "    #data.head()    \n",
    "    return x_train, x_test, y_train, y_test,x_train_sc,x_test_sc"
   ]
  },
  {
   "cell_type": "code",
   "execution_count": 14,
   "id": "694304f6",
   "metadata": {},
   "outputs": [],
   "source": [
    " x_train, x_test, y_train, y_test,x_train_sc,x_test_sc=DataPreperation(data)"
   ]
  },
  {
   "cell_type": "markdown",
   "id": "46ea1d63",
   "metadata": {},
   "source": [
    "LinerRegrition "
   ]
  },
  {
   "cell_type": "code",
   "execution_count": 15,
   "id": "123ac1a9",
   "metadata": {},
   "outputs": [],
   "source": [
    "#function to applay the Liner Regrition Model \n",
    "def LinerRegrition(x_train, x_test, y_train, y_test):\n",
    "    Reg=LinearRegression()\n",
    "    Reg.fit(x_train,y_train)\n",
    "    y_pred=Reg.predict(x_test)\n",
    "    score_train=Reg.score(x_train,y_train)\n",
    "    score_test=Reg.score(x_test,y_test)\n",
    "    print(\"The training data score= \",score_train)\n",
    "    print(\"The testing data score= \",score_test)\n",
    "    print(\"The reall price for this model: \",y_test[0:5])\n",
    "    print(\"The price prediction for this model: \",y_pred[0:5])\n",
    "    print(\"The mean absolute error= \",mean_absolute_error(y_test,y_pred))\n",
    "    return score_test"
   ]
  },
  {
   "cell_type": "code",
   "execution_count": 16,
   "id": "77d5d12b",
   "metadata": {},
   "outputs": [
    {
     "name": "stdout",
     "output_type": "stream",
     "text": [
      "The Liner Regrition Model\n",
      "The training data score=  0.67436894355064\n",
      "The testing data score=  0.6584779324386063\n",
      "The reall price for this model:             price\n",
      "17384   297000.0\n",
      "722    1578000.0\n",
      "2680    562100.0\n",
      "18754   631500.0\n",
      "14554   780000.0\n",
      "The price prediction for this model:  [[ 429521.10287413]\n",
      " [1418060.59361937]\n",
      " [ 492676.02025756]\n",
      " [ 498615.07677153]\n",
      " [1111732.7467045 ]]\n",
      "The mean absolute error=  131908.37577056943\n"
     ]
    }
   ],
   "source": [
    "#LinerRegrition \n",
    "#applay the Model on the data\n",
    "print(\"The Liner Regrition Model\")\n",
    "LinerRegrition_accurecy=LinerRegrition(x_train_sc,x_test_sc, y_train, y_test)"
   ]
  },
  {
   "cell_type": "markdown",
   "id": "0f318386",
   "metadata": {},
   "source": [
    "---"
   ]
  },
  {
   "cell_type": "markdown",
   "id": "b1f21cae",
   "metadata": {},
   "source": [
    "DecisionTree"
   ]
  },
  {
   "cell_type": "code",
   "execution_count": 17,
   "id": "08da7c5f",
   "metadata": {},
   "outputs": [
    {
     "name": "stdout",
     "output_type": "stream",
     "text": [
      "the best parameters to use for this model {'splitter': 'best', 'min_samples_leaf': 3, 'max_depth': 12}\n"
     ]
    }
   ],
   "source": [
    "#DecisionTree\n",
    "#choose the best parameters to use for this model\n",
    "DT_best_params=CVDecisionTree(x_train, y_train)\n",
    "print(\"the best parameters to use for this model\",DT_best_params)"
   ]
  },
  {
   "cell_type": "code",
   "execution_count": 18,
   "id": "2090a19d",
   "metadata": {},
   "outputs": [],
   "source": [
    "#function to applay the Decision Tree Model \n",
    "def DecisionTree(x_train, x_test, y_train, y_test):\n",
    "    dt=DecisionTreeRegressor(splitter='best', min_samples_leaf=12, max_depth=8)\n",
    "    dt.fit(x_train,y_train)\n",
    "    y_pred=dt.predict(x_test)\n",
    "    score_train=dt.score(x_train,y_train)\n",
    "    score_test=dt.score(x_test,y_test)\n",
    "    print(\"The training data score= \",score_train)\n",
    "    print(\"The testing data score= \",score_test)\n",
    "    print(\"The reall price for this model: \",y_test[0:5])\n",
    "    print(\"The price prediction for this model: \",y_pred[0:5])\n",
    "    print(\"The mean absolute error= \",mean_absolute_error(y_test,y_pred))\n",
    "    return score_test"
   ]
  },
  {
   "cell_type": "code",
   "execution_count": 19,
   "id": "c5604766",
   "metadata": {},
   "outputs": [
    {
     "name": "stdout",
     "output_type": "stream",
     "text": [
      "The Decision Tree Model\n",
      "The training data score=  0.8264735428426069\n",
      "The testing data score=  0.782475437577127\n",
      "The reall price for this model:             price\n",
      "17384   297000.0\n",
      "722    1578000.0\n",
      "2680    562100.0\n",
      "18754   631500.0\n",
      "14554   780000.0\n",
      "The price prediction for this model:  [ 326870.65217391 1504752.          499934.97076736  499934.97076736\n",
      "  809260.86956522]\n",
      "The mean absolute error=  94092.3335461281\n"
     ]
    }
   ],
   "source": [
    "#applay the Model on the data\n",
    "print(\"The Decision Tree Model\")\n",
    "DecisionTree_accurecy=DecisionTree(x_train_sc,x_test_sc, y_train, y_test)"
   ]
  },
  {
   "cell_type": "markdown",
   "id": "09001cf5",
   "metadata": {},
   "source": [
    "---"
   ]
  },
  {
   "cell_type": "markdown",
   "id": "7115d911",
   "metadata": {},
   "source": [
    "RandomForest"
   ]
  },
  {
   "cell_type": "code",
   "execution_count": null,
   "id": "705cf3ee",
   "metadata": {},
   "outputs": [],
   "source": [
    "#RandomForest\n",
    "#choose the best parameters to use for this model\n",
    "RF_best_params=CVRandomForest(x_train, y_train)\n",
    "print(\"the best parameters to use for this model\",RF_best_params)"
   ]
  },
  {
   "cell_type": "code",
   "execution_count": null,
   "id": "07cf7a18",
   "metadata": {},
   "outputs": [],
   "source": [
    "#function to apply the Random Forest Model \n",
    "def RandomForest(x_train, x_test, y_train, y_test):\n",
    "    rf=RandomForestRegressor(n_estimators=200,min_samples_leaf=7,max_depth=10)\n",
    "    rf.fit(x_train,y_train)\n",
    "    y_pred=rf.predict(x_test)\n",
    "    score_train=rf.score(x_train,y_train)\n",
    "    score_test=rf.score(x_test,y_test)\n",
    "    print(\"The training data score= \",score_train)\n",
    "    print(\"The testing data score= \",score_test)\n",
    "    print(\"The reall price for this model: \",y_test[0:5])\n",
    "    print(\"The price prediction for this model: \",y_pred[0:5])\n",
    "    print(\"The mean absolute error= \",mean_absolute_error(y_test,y_pred))\n",
    "    return score_test"
   ]
  },
  {
   "cell_type": "code",
   "execution_count": null,
   "id": "669c12e6",
   "metadata": {},
   "outputs": [],
   "source": [
    "#applay the Model on the data\n",
    "print(\"The Random Forest Model\")\n",
    "RandomForest_accurecy=RandomForest(x_train,x_test, y_train, y_test)"
   ]
  },
  {
   "cell_type": "markdown",
   "id": "ba659946",
   "metadata": {},
   "source": [
    "---"
   ]
  },
  {
   "cell_type": "markdown",
   "id": "6b33ecca",
   "metadata": {},
   "source": [
    "XGBoost"
   ]
  },
  {
   "cell_type": "code",
   "execution_count": null,
   "id": "e60d8cfc",
   "metadata": {},
   "outputs": [],
   "source": [
    "#XGBoost\n",
    "#choose the best parameters to use for this model\n",
    "XG_best_params=CVXGBoost(x_train, y_train)\n",
    "print(XG_best_params)"
   ]
  },
  {
   "cell_type": "code",
   "execution_count": null,
   "id": "5b278426",
   "metadata": {},
   "outputs": [],
   "source": [
    "#function to applay the XGBoost Model \n",
    "def XGBoost(x_train, x_test, y_train, y_test):\n",
    "    xg=XGBRegressor(n_estimators=120,max_leaves=13,max_depth=3) \n",
    "    xg.fit(x_train,y_train)\n",
    "    y_pred=xg.predict(x_test)\n",
    "    score_train=xg.score(x_train,y_train)\n",
    "    score_test=xg.score(x_test,y_test)\n",
    "    print(\"The training data score= \",score_train)\n",
    "    print(\"The testing data score= \",score_test)\n",
    "    print(\"The reall price for this model: \",y_test[0:5])\n",
    "    print(\"The price prediction for this model: \",y_pred[0:5])\n",
    "    print(\"The mean absolute error= \",mean_absolute_error(y_test,y_pred))\n",
    "    return score_test"
   ]
  },
  {
   "cell_type": "code",
   "execution_count": null,
   "id": "b0d13713",
   "metadata": {},
   "outputs": [],
   "source": [
    "#applay the Model on the data\n",
    "print(\"The XGBoost Model\")\n",
    "XGBoost_accurecy=XGBoost(x_train,x_test, y_train, y_test)"
   ]
  },
  {
   "cell_type": "markdown",
   "id": "5d158caf",
   "metadata": {},
   "source": [
    "---"
   ]
  },
  {
   "cell_type": "markdown",
   "id": "4e42cd0c",
   "metadata": {},
   "source": [
    "The best Model"
   ]
  },
  {
   "cell_type": "code",
   "execution_count": null,
   "id": "8b526d60",
   "metadata": {},
   "outputs": [],
   "source": [
    "#to specify the best model with best accuracy for the data set \n",
    "array=[[\"LinerRegrition\",LinerRegrition_accurecy],[\"DecisionTree\",DecisionTree_accurecy],[\"RandomForest\",RandomForest_accurecy],[\"XGBoost\",XGBoost_accurecy]]\n",
    "best=[]\n",
    "for i in array:\n",
    "    best.append(i[1])\n",
    "print(\"The best Model is:\",i[0],\" with accuracy = \",max(best))    \n",
    " "
   ]
  },
  {
   "cell_type": "markdown",
   "id": "92297a28",
   "metadata": {},
   "source": [
    "Pikle"
   ]
  },
  {
   "cell_type": "code",
   "execution_count": null,
   "id": "d114ce1b",
   "metadata": {},
   "outputs": [],
   "source": [
    "#XGBoost global environment model\n",
    "XGB=XGBRegressor(n_estimators=120,max_leaves=13,max_depth=3)\n",
    "XGB.fit(x_train,y_train)"
   ]
  },
  {
   "cell_type": "code",
   "execution_count": null,
   "id": "f255a1a4",
   "metadata": {},
   "outputs": [],
   "source": [
    "#pikle the model file\n",
    "with open('XGBoost', 'wb') as file:\n",
    "    pickle.dump(XGB, file)"
   ]
  },
  {
   "cell_type": "code",
   "execution_count": null,
   "id": "099b3956",
   "metadata": {},
   "outputs": [],
   "source": []
  }
 ],
 "metadata": {
  "kernelspec": {
   "display_name": "Python 3 (ipykernel)",
   "language": "python",
   "name": "python3"
  },
  "language_info": {
   "codemirror_mode": {
    "name": "ipython",
    "version": 3
   },
   "file_extension": ".py",
   "mimetype": "text/x-python",
   "name": "python",
   "nbconvert_exporter": "python",
   "pygments_lexer": "ipython3",
   "version": "3.9.7"
  }
 },
 "nbformat": 4,
 "nbformat_minor": 5
}
